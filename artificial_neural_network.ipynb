{
  "nbformat": 4,
  "nbformat_minor": 0,
  "metadata": {
    "colab": {
      "name": "artificial_neural_network.ipynb",
      "provenance": [],
      "collapsed_sections": [],
      "toc_visible": true
    },
    "kernelspec": {
      "name": "python3",
      "display_name": "Python 3"
    }
  },
  "cells": [
    {
      "cell_type": "markdown",
      "metadata": {
        "id": "lP6JLo1tGNBg"
      },
      "source": [
        "# Artificial Neural Network"
      ]
    },
    {
      "cell_type": "markdown",
      "metadata": {
        "id": "gWZyYmS_UE_L"
      },
      "source": [
        "### Importing the libraries"
      ]
    },
    {
      "cell_type": "code",
      "metadata": {
        "id": "aS7QFldGdRhJ"
      },
      "source": [
        "import numpy as np\n",
        "import pandas as pd\n",
        "import tensorflow as tf"
      ],
      "execution_count": 1,
      "outputs": []
    },
    {
      "cell_type": "code",
      "metadata": {
        "id": "5WryQfVIdaFb",
        "outputId": "8962b30d-b86e-4cab-ad70-98408152e905",
        "colab": {
          "base_uri": "https://localhost:8080/",
          "height": 35
        }
      },
      "source": [
        "tf.__version__"
      ],
      "execution_count": 2,
      "outputs": [
        {
          "output_type": "execute_result",
          "data": {
            "application/vnd.google.colaboratory.intrinsic+json": {
              "type": "string"
            },
            "text/plain": [
              "'2.3.0'"
            ]
          },
          "metadata": {
            "tags": []
          },
          "execution_count": 2
        }
      ]
    },
    {
      "cell_type": "markdown",
      "metadata": {
        "id": "1E0Q3aoKUCRX"
      },
      "source": [
        "## Part 1 - Data Preprocessing"
      ]
    },
    {
      "cell_type": "markdown",
      "metadata": {
        "id": "cKWAkFVGUU0Z"
      },
      "source": [
        "### Importing the dataset"
      ]
    },
    {
      "cell_type": "code",
      "metadata": {
        "id": "W_iOOudxeW1h"
      },
      "source": [
        "dataset = pd.read_csv('Churn_Modelling.csv')\n",
        "X = dataset.iloc[:, 3:-1].values\n",
        "y = dataset.iloc[:, -1].values"
      ],
      "execution_count": 3,
      "outputs": []
    },
    {
      "cell_type": "markdown",
      "metadata": {
        "id": "N6bQ0UgSU-NJ"
      },
      "source": [
        "### Encoding categorical data"
      ]
    },
    {
      "cell_type": "markdown",
      "metadata": {
        "id": "le5MJreAbW52"
      },
      "source": [
        "Label Encoding the \"Gender\" column"
      ]
    },
    {
      "cell_type": "code",
      "metadata": {
        "id": "TBM6GDEmfq_O"
      },
      "source": [
        "from sklearn.preprocessing import LabelEncoder\n",
        "le = LabelEncoder()\n",
        "X[:, 2] = le.fit_transform(X[:, 2])"
      ],
      "execution_count": 4,
      "outputs": []
    },
    {
      "cell_type": "markdown",
      "metadata": {
        "id": "CUxGZezpbMcb"
      },
      "source": [
        "One Hot Encoding the \"Geography\" column"
      ]
    },
    {
      "cell_type": "code",
      "metadata": {
        "id": "xuVaMSWwgQJ5"
      },
      "source": [
        "from sklearn.compose import ColumnTransformer\n",
        "from sklearn.preprocessing import OneHotEncoder\n",
        "ct = ColumnTransformer(transformers=[('encoder', OneHotEncoder(), [1])], remainder='passthrough')\n",
        "X = np.array(ct.fit_transform(X))"
      ],
      "execution_count": 5,
      "outputs": []
    },
    {
      "cell_type": "code",
      "metadata": {
        "id": "CpG0wzmzGxSB",
        "outputId": "df873f74-f62f-41a3-a925-62a0fb182b8f",
        "colab": {
          "base_uri": "https://localhost:8080/",
          "height": 136
        }
      },
      "source": [
        "print(X)"
      ],
      "execution_count": 6,
      "outputs": [
        {
          "output_type": "stream",
          "text": [
            "[[1.0 0.0 0.0 ... 1 1 101348.88]\n",
            " [0.0 0.0 1.0 ... 0 1 112542.58]\n",
            " [1.0 0.0 0.0 ... 1 0 113931.57]\n",
            " ...\n",
            " [1.0 0.0 0.0 ... 0 1 42085.58]\n",
            " [0.0 1.0 0.0 ... 1 0 92888.52]\n",
            " [1.0 0.0 0.0 ... 1 0 38190.78]]\n"
          ],
          "name": "stdout"
        }
      ]
    },
    {
      "cell_type": "markdown",
      "metadata": {
        "id": "vHol938cW8zd"
      },
      "source": [
        "### Splitting the dataset into the Training set and Test set"
      ]
    },
    {
      "cell_type": "code",
      "metadata": {
        "id": "T8W9gVgRhJ3K"
      },
      "source": [
        "from sklearn.model_selection import train_test_split\n",
        "X_train, X_test, y_train, y_test = train_test_split(X, y, test_size = 0.2, random_state = 0)"
      ],
      "execution_count": 7,
      "outputs": []
    },
    {
      "cell_type": "markdown",
      "metadata": {
        "id": "RE_FcHyfV3TQ"
      },
      "source": [
        "### Feature Scaling"
      ]
    },
    {
      "cell_type": "code",
      "metadata": {
        "id": "nzA7GP8JhN0r"
      },
      "source": [
        "from sklearn.preprocessing import StandardScaler\n",
        "sc = StandardScaler()\n",
        "X_train = sc.fit_transform(X_train)\n",
        "X_test = sc.transform(X_test)"
      ],
      "execution_count": 8,
      "outputs": []
    },
    {
      "cell_type": "markdown",
      "metadata": {
        "id": "-zfEzkRVXIwF"
      },
      "source": [
        "## Part 2 - Building the ANN"
      ]
    },
    {
      "cell_type": "markdown",
      "metadata": {
        "id": "KvdeScabXtlB"
      },
      "source": [
        "### Initializing the ANN"
      ]
    },
    {
      "cell_type": "code",
      "metadata": {
        "id": "SfTozWum5Oem"
      },
      "source": [
        "ann = tf.keras.models.Sequential()"
      ],
      "execution_count": 9,
      "outputs": []
    },
    {
      "cell_type": "markdown",
      "metadata": {
        "id": "rP6urV6SX7kS"
      },
      "source": [
        "### Adding the input layer and the first hidden layer"
      ]
    },
    {
      "cell_type": "code",
      "metadata": {
        "id": "wnDp2gmQ5_hS"
      },
      "source": [
        "ann.add(tf.keras.layers.Dense(units=6, activation='relu'))"
      ],
      "execution_count": 10,
      "outputs": []
    },
    {
      "cell_type": "markdown",
      "metadata": {
        "id": "BELWAc_8YJze"
      },
      "source": [
        "### Adding the second hidden layer"
      ]
    },
    {
      "cell_type": "code",
      "metadata": {
        "id": "5SVRahQM7Kvt"
      },
      "source": [
        "ann.add(tf.keras.layers.Dense(units=6, activation='relu'))"
      ],
      "execution_count": 11,
      "outputs": []
    },
    {
      "cell_type": "markdown",
      "metadata": {
        "id": "OyNEe6RXYcU4"
      },
      "source": [
        "### Adding the output layer"
      ]
    },
    {
      "cell_type": "code",
      "metadata": {
        "id": "8aHC8uDv7cv4"
      },
      "source": [
        "ann.add(tf.keras.layers.Dense(units=1, activation='sigmoid'))"
      ],
      "execution_count": 12,
      "outputs": []
    },
    {
      "cell_type": "markdown",
      "metadata": {
        "id": "JT4u2S1_Y4WG"
      },
      "source": [
        "## Part 3 - Training the ANN"
      ]
    },
    {
      "cell_type": "markdown",
      "metadata": {
        "id": "8GWlJChhY_ZI"
      },
      "source": [
        "### Compiling the ANN"
      ]
    },
    {
      "cell_type": "code",
      "metadata": {
        "id": "2QoXZp7R9fkv"
      },
      "source": [
        "ann.compile(optimizer='adam', loss='binary_crossentropy', metrics=['accuracy'])"
      ],
      "execution_count": 13,
      "outputs": []
    },
    {
      "cell_type": "markdown",
      "metadata": {
        "id": "0QR_G5u7ZLSM"
      },
      "source": [
        "### Training the ANN on the Training set"
      ]
    },
    {
      "cell_type": "code",
      "metadata": {
        "id": "GwDYc_aVAzOc",
        "outputId": "fe2c188f-3e77-4b8e-97b6-8e86b2dabddc",
        "colab": {
          "base_uri": "https://localhost:8080/",
          "height": 1000
        }
      },
      "source": [
        "ann.fit(X_train, y_train, batch_size=32, epochs=100)"
      ],
      "execution_count": 14,
      "outputs": [
        {
          "output_type": "stream",
          "text": [
            "Epoch 1/100\n",
            "250/250 [==============================] - 0s 592us/step - loss: 0.5378 - accuracy: 0.7930\n",
            "Epoch 2/100\n",
            "250/250 [==============================] - 0s 601us/step - loss: 0.4742 - accuracy: 0.7969\n",
            "Epoch 3/100\n",
            "250/250 [==============================] - 0s 651us/step - loss: 0.4533 - accuracy: 0.7996\n",
            "Epoch 4/100\n",
            "250/250 [==============================] - 0s 659us/step - loss: 0.4421 - accuracy: 0.8010\n",
            "Epoch 5/100\n",
            "250/250 [==============================] - 0s 638us/step - loss: 0.4344 - accuracy: 0.8044\n",
            "Epoch 6/100\n",
            "250/250 [==============================] - 0s 577us/step - loss: 0.4286 - accuracy: 0.8077\n",
            "Epoch 7/100\n",
            "250/250 [==============================] - 0s 566us/step - loss: 0.4242 - accuracy: 0.8105\n",
            "Epoch 8/100\n",
            "250/250 [==============================] - 0s 583us/step - loss: 0.4202 - accuracy: 0.8161\n",
            "Epoch 9/100\n",
            "250/250 [==============================] - 0s 596us/step - loss: 0.4164 - accuracy: 0.8207\n",
            "Epoch 10/100\n",
            "250/250 [==============================] - 0s 557us/step - loss: 0.4137 - accuracy: 0.8235\n",
            "Epoch 11/100\n",
            "250/250 [==============================] - 0s 608us/step - loss: 0.4113 - accuracy: 0.8260\n",
            "Epoch 12/100\n",
            "250/250 [==============================] - 0s 563us/step - loss: 0.4088 - accuracy: 0.8265\n",
            "Epoch 13/100\n",
            "250/250 [==============================] - 0s 625us/step - loss: 0.4066 - accuracy: 0.8266\n",
            "Epoch 14/100\n",
            "250/250 [==============================] - 0s 568us/step - loss: 0.4050 - accuracy: 0.8286\n",
            "Epoch 15/100\n",
            "250/250 [==============================] - 0s 578us/step - loss: 0.4037 - accuracy: 0.8284\n",
            "Epoch 16/100\n",
            "250/250 [==============================] - 0s 595us/step - loss: 0.4023 - accuracy: 0.8289\n",
            "Epoch 17/100\n",
            "250/250 [==============================] - 0s 582us/step - loss: 0.4010 - accuracy: 0.8338\n",
            "Epoch 18/100\n",
            "250/250 [==============================] - 0s 570us/step - loss: 0.3995 - accuracy: 0.8344\n",
            "Epoch 19/100\n",
            "250/250 [==============================] - 0s 588us/step - loss: 0.3984 - accuracy: 0.8353\n",
            "Epoch 20/100\n",
            "250/250 [==============================] - 0s 587us/step - loss: 0.3977 - accuracy: 0.8354\n",
            "Epoch 21/100\n",
            "250/250 [==============================] - 0s 571us/step - loss: 0.3963 - accuracy: 0.8364\n",
            "Epoch 22/100\n",
            "250/250 [==============================] - 0s 574us/step - loss: 0.3955 - accuracy: 0.8380\n",
            "Epoch 23/100\n",
            "250/250 [==============================] - 0s 588us/step - loss: 0.3943 - accuracy: 0.8380\n",
            "Epoch 24/100\n",
            "250/250 [==============================] - 0s 570us/step - loss: 0.3937 - accuracy: 0.8386\n",
            "Epoch 25/100\n",
            "250/250 [==============================] - 0s 600us/step - loss: 0.3928 - accuracy: 0.8396\n",
            "Epoch 26/100\n",
            "250/250 [==============================] - 0s 583us/step - loss: 0.3923 - accuracy: 0.8403\n",
            "Epoch 27/100\n",
            "250/250 [==============================] - 0s 597us/step - loss: 0.3910 - accuracy: 0.8406\n",
            "Epoch 28/100\n",
            "250/250 [==============================] - 0s 607us/step - loss: 0.3898 - accuracy: 0.8406\n",
            "Epoch 29/100\n",
            "250/250 [==============================] - 0s 558us/step - loss: 0.3883 - accuracy: 0.8391\n",
            "Epoch 30/100\n",
            "250/250 [==============================] - 0s 567us/step - loss: 0.3870 - accuracy: 0.8391\n",
            "Epoch 31/100\n",
            "250/250 [==============================] - 0s 576us/step - loss: 0.3854 - accuracy: 0.8410\n",
            "Epoch 32/100\n",
            "250/250 [==============================] - 0s 610us/step - loss: 0.3841 - accuracy: 0.8407\n",
            "Epoch 33/100\n",
            "250/250 [==============================] - 0s 571us/step - loss: 0.3826 - accuracy: 0.8411\n",
            "Epoch 34/100\n",
            "250/250 [==============================] - 0s 630us/step - loss: 0.3815 - accuracy: 0.8386\n",
            "Epoch 35/100\n",
            "250/250 [==============================] - 0s 597us/step - loss: 0.3799 - accuracy: 0.8403\n",
            "Epoch 36/100\n",
            "250/250 [==============================] - 0s 590us/step - loss: 0.3785 - accuracy: 0.8409\n",
            "Epoch 37/100\n",
            "250/250 [==============================] - 0s 606us/step - loss: 0.3774 - accuracy: 0.8405\n",
            "Epoch 38/100\n",
            "250/250 [==============================] - 0s 584us/step - loss: 0.3766 - accuracy: 0.8410\n",
            "Epoch 39/100\n",
            "250/250 [==============================] - 0s 559us/step - loss: 0.3755 - accuracy: 0.8428\n",
            "Epoch 40/100\n",
            "250/250 [==============================] - 0s 615us/step - loss: 0.3746 - accuracy: 0.8413\n",
            "Epoch 41/100\n",
            "250/250 [==============================] - 0s 602us/step - loss: 0.3739 - accuracy: 0.8422\n",
            "Epoch 42/100\n",
            "250/250 [==============================] - 0s 584us/step - loss: 0.3731 - accuracy: 0.8419\n",
            "Epoch 43/100\n",
            "250/250 [==============================] - 0s 576us/step - loss: 0.3720 - accuracy: 0.8411\n",
            "Epoch 44/100\n",
            "250/250 [==============================] - 0s 636us/step - loss: 0.3716 - accuracy: 0.8418\n",
            "Epoch 45/100\n",
            "250/250 [==============================] - 0s 641us/step - loss: 0.3703 - accuracy: 0.8424\n",
            "Epoch 46/100\n",
            "250/250 [==============================] - 0s 647us/step - loss: 0.3696 - accuracy: 0.8425\n",
            "Epoch 47/100\n",
            "250/250 [==============================] - 0s 625us/step - loss: 0.3686 - accuracy: 0.8432\n",
            "Epoch 48/100\n",
            "250/250 [==============================] - 0s 569us/step - loss: 0.3680 - accuracy: 0.8420\n",
            "Epoch 49/100\n",
            "250/250 [==============================] - 0s 586us/step - loss: 0.3663 - accuracy: 0.8426\n",
            "Epoch 50/100\n",
            "250/250 [==============================] - 0s 585us/step - loss: 0.3653 - accuracy: 0.8431\n",
            "Epoch 51/100\n",
            "250/250 [==============================] - 0s 586us/step - loss: 0.3645 - accuracy: 0.8446\n",
            "Epoch 52/100\n",
            "250/250 [==============================] - 0s 566us/step - loss: 0.3629 - accuracy: 0.8443\n",
            "Epoch 53/100\n",
            "250/250 [==============================] - 0s 593us/step - loss: 0.3615 - accuracy: 0.8450\n",
            "Epoch 54/100\n",
            "250/250 [==============================] - 0s 627us/step - loss: 0.3602 - accuracy: 0.8465\n",
            "Epoch 55/100\n",
            "250/250 [==============================] - 0s 586us/step - loss: 0.3591 - accuracy: 0.8475\n",
            "Epoch 56/100\n",
            "250/250 [==============================] - 0s 609us/step - loss: 0.3579 - accuracy: 0.8493\n",
            "Epoch 57/100\n",
            "250/250 [==============================] - 0s 588us/step - loss: 0.3571 - accuracy: 0.8503\n",
            "Epoch 58/100\n",
            "250/250 [==============================] - 0s 599us/step - loss: 0.3559 - accuracy: 0.8500\n",
            "Epoch 59/100\n",
            "250/250 [==============================] - 0s 585us/step - loss: 0.3550 - accuracy: 0.8512\n",
            "Epoch 60/100\n",
            "250/250 [==============================] - 0s 586us/step - loss: 0.3541 - accuracy: 0.8504\n",
            "Epoch 61/100\n",
            "250/250 [==============================] - 0s 583us/step - loss: 0.3530 - accuracy: 0.8505\n",
            "Epoch 62/100\n",
            "250/250 [==============================] - 0s 624us/step - loss: 0.3520 - accuracy: 0.8528\n",
            "Epoch 63/100\n",
            "250/250 [==============================] - 0s 575us/step - loss: 0.3511 - accuracy: 0.8515\n",
            "Epoch 64/100\n",
            "250/250 [==============================] - 0s 576us/step - loss: 0.3496 - accuracy: 0.8545\n",
            "Epoch 65/100\n",
            "250/250 [==============================] - 0s 592us/step - loss: 0.3491 - accuracy: 0.8547\n",
            "Epoch 66/100\n",
            "250/250 [==============================] - 0s 614us/step - loss: 0.3473 - accuracy: 0.8560\n",
            "Epoch 67/100\n",
            "250/250 [==============================] - 0s 566us/step - loss: 0.3464 - accuracy: 0.8562\n",
            "Epoch 68/100\n",
            "250/250 [==============================] - 0s 584us/step - loss: 0.3454 - accuracy: 0.8583\n",
            "Epoch 69/100\n",
            "250/250 [==============================] - 0s 574us/step - loss: 0.3442 - accuracy: 0.8579\n",
            "Epoch 70/100\n",
            "250/250 [==============================] - 0s 578us/step - loss: 0.3437 - accuracy: 0.8601\n",
            "Epoch 71/100\n",
            "250/250 [==============================] - 0s 628us/step - loss: 0.3421 - accuracy: 0.8606\n",
            "Epoch 72/100\n",
            "250/250 [==============================] - 0s 594us/step - loss: 0.3418 - accuracy: 0.8601\n",
            "Epoch 73/100\n",
            "250/250 [==============================] - 0s 586us/step - loss: 0.3411 - accuracy: 0.8612\n",
            "Epoch 74/100\n",
            "250/250 [==============================] - 0s 619us/step - loss: 0.3403 - accuracy: 0.8604\n",
            "Epoch 75/100\n",
            "250/250 [==============================] - 0s 603us/step - loss: 0.3395 - accuracy: 0.8608\n",
            "Epoch 76/100\n",
            "250/250 [==============================] - 0s 580us/step - loss: 0.3389 - accuracy: 0.8608\n",
            "Epoch 77/100\n",
            "250/250 [==============================] - 0s 575us/step - loss: 0.3389 - accuracy: 0.8608\n",
            "Epoch 78/100\n",
            "250/250 [==============================] - 0s 658us/step - loss: 0.3381 - accuracy: 0.8620\n",
            "Epoch 79/100\n",
            "250/250 [==============================] - 0s 595us/step - loss: 0.3384 - accuracy: 0.8626\n",
            "Epoch 80/100\n",
            "250/250 [==============================] - 0s 570us/step - loss: 0.3380 - accuracy: 0.8626\n",
            "Epoch 81/100\n",
            "250/250 [==============================] - 0s 588us/step - loss: 0.3373 - accuracy: 0.8625\n",
            "Epoch 82/100\n",
            "250/250 [==============================] - 0s 613us/step - loss: 0.3380 - accuracy: 0.8605\n",
            "Epoch 83/100\n",
            "250/250 [==============================] - 0s 664us/step - loss: 0.3369 - accuracy: 0.8624\n",
            "Epoch 84/100\n",
            "250/250 [==============================] - 0s 619us/step - loss: 0.3372 - accuracy: 0.8621\n",
            "Epoch 85/100\n",
            "250/250 [==============================] - 0s 594us/step - loss: 0.3370 - accuracy: 0.8604\n",
            "Epoch 86/100\n",
            "250/250 [==============================] - 0s 573us/step - loss: 0.3365 - accuracy: 0.8609\n",
            "Epoch 87/100\n",
            "250/250 [==============================] - 0s 588us/step - loss: 0.3366 - accuracy: 0.8621\n",
            "Epoch 88/100\n",
            "250/250 [==============================] - 0s 625us/step - loss: 0.3364 - accuracy: 0.8612\n",
            "Epoch 89/100\n",
            "250/250 [==============================] - 0s 610us/step - loss: 0.3362 - accuracy: 0.8619\n",
            "Epoch 90/100\n",
            "250/250 [==============================] - 0s 596us/step - loss: 0.3360 - accuracy: 0.8610\n",
            "Epoch 91/100\n",
            "250/250 [==============================] - 0s 637us/step - loss: 0.3358 - accuracy: 0.8611\n",
            "Epoch 92/100\n",
            "250/250 [==============================] - 0s 643us/step - loss: 0.3354 - accuracy: 0.8602\n",
            "Epoch 93/100\n",
            "250/250 [==============================] - 0s 575us/step - loss: 0.3352 - accuracy: 0.8643\n",
            "Epoch 94/100\n",
            "250/250 [==============================] - 0s 627us/step - loss: 0.3353 - accuracy: 0.8625\n",
            "Epoch 95/100\n",
            "250/250 [==============================] - 0s 605us/step - loss: 0.3352 - accuracy: 0.8622\n",
            "Epoch 96/100\n",
            "250/250 [==============================] - 0s 569us/step - loss: 0.3351 - accuracy: 0.8641\n",
            "Epoch 97/100\n",
            "250/250 [==============================] - 0s 608us/step - loss: 0.3348 - accuracy: 0.8620\n",
            "Epoch 98/100\n",
            "250/250 [==============================] - 0s 633us/step - loss: 0.3345 - accuracy: 0.8624\n",
            "Epoch 99/100\n",
            "250/250 [==============================] - 0s 596us/step - loss: 0.3342 - accuracy: 0.8616\n",
            "Epoch 100/100\n",
            "250/250 [==============================] - 0s 581us/step - loss: 0.3342 - accuracy: 0.8595\n"
          ],
          "name": "stdout"
        },
        {
          "output_type": "execute_result",
          "data": {
            "text/plain": [
              "<tensorflow.python.keras.callbacks.History at 0x7fdc4bfef208>"
            ]
          },
          "metadata": {
            "tags": []
          },
          "execution_count": 14
        }
      ]
    },
    {
      "cell_type": "markdown",
      "metadata": {
        "id": "tJj5k2MxZga3"
      },
      "source": [
        "## Part 4 - Making the predictions and evaluating the model"
      ]
    },
    {
      "cell_type": "markdown",
      "metadata": {
        "id": "84QFoqGYeXHL"
      },
      "source": [
        "### Predicting the result of a single observation"
      ]
    },
    {
      "cell_type": "markdown",
      "metadata": {
        "id": "CGRo3eacgDdC"
      },
      "source": [
        "**Homework**\n",
        "\n",
        "Use our ANN model to predict if the customer with the following informations will leave the bank: \n",
        "\n",
        "Geography: France\n",
        "\n",
        "Credit Score: 600\n",
        "\n",
        "Gender: Male\n",
        "\n",
        "Age: 40 years old\n",
        "\n",
        "Tenure: 3 years\n",
        "\n",
        "Balance: \\$ 60000\n",
        "\n",
        "Number of Products: 2\n",
        "\n",
        "Does this customer have a credit card? Yes\n",
        "\n",
        "Is this customer an Active Member: Yes\n",
        "\n",
        "Estimated Salary: \\$ 50000\n",
        "\n",
        "So, should we say goodbye to that customer?"
      ]
    },
    {
      "cell_type": "markdown",
      "metadata": {
        "id": "ZhU1LTgPg-kH"
      },
      "source": [
        "**Solution**"
      ]
    },
    {
      "cell_type": "code",
      "metadata": {
        "id": "YXDdQxwYFnIy",
        "outputId": "172e6c97-13f1-492b-db36-0882990edd08",
        "colab": {
          "base_uri": "https://localhost:8080/",
          "height": 34
        }
      },
      "source": [
        "print(ann.predict(sc.transform([[1, 0, 0, 600, 1, 40, 3, 60000, 2, 1, 1, 50000]])) > 0.5)"
      ],
      "execution_count": 25,
      "outputs": [
        {
          "output_type": "stream",
          "text": [
            "[[False]]\n"
          ],
          "name": "stdout"
        }
      ]
    },
    {
      "cell_type": "markdown",
      "metadata": {
        "id": "wGjx94g2n7OV"
      },
      "source": [
        "Therefore, our ANN model predicts that this customer stays in the bank!\n",
        "\n",
        "**Important note 1:** Notice that the values of the features were all input in a double pair of square brackets. That's because the \"predict\" method always expects a 2D array as the format of its inputs. And putting our values into a double pair of square brackets makes the input exactly a 2D array.\n",
        "\n",
        "**Important note 2:** Notice also that the \"France\" country was not input as a string in the last column but as \"1, 0, 0\" in the first three columns. That's because of course the predict method expects the one-hot-encoded values of the state, and as we see in the first row of the matrix of features X, \"France\" was encoded as \"1, 0, 0\". And be careful to include these values in the first three columns, because the dummy variables are always created in the first columns."
      ]
    },
    {
      "cell_type": "markdown",
      "metadata": {
        "id": "u7yx47jPZt11"
      },
      "source": [
        "### Predicting the Test set results"
      ]
    },
    {
      "cell_type": "code",
      "metadata": {
        "id": "858ShJsWJIpe",
        "outputId": "8cfdfae6-202a-47e6-c20c-8f90f1c28c22",
        "colab": {
          "base_uri": "https://localhost:8080/",
          "height": 136
        }
      },
      "source": [
        "y_pred = ann.predict(X_test)\n",
        "y_pred = (y_pred > 0.5)\n",
        "print(np.concatenate((y_pred.reshape(len(y_pred),1), y_test.reshape(len(y_test),1)),1))"
      ],
      "execution_count": 26,
      "outputs": [
        {
          "output_type": "stream",
          "text": [
            "[[0 0]\n",
            " [0 1]\n",
            " [0 0]\n",
            " ...\n",
            " [0 0]\n",
            " [0 0]\n",
            " [0 0]]\n"
          ],
          "name": "stdout"
        }
      ]
    },
    {
      "cell_type": "markdown",
      "metadata": {
        "id": "o0oyfLWoaEGw"
      },
      "source": [
        "### Making the Confusion Matrix"
      ]
    },
    {
      "cell_type": "code",
      "metadata": {
        "id": "Dt1J7YjKJnUk",
        "outputId": "497d3da3-5008-4362-b033-4b1c6be9c7b6",
        "colab": {
          "base_uri": "https://localhost:8080/",
          "height": 68
        }
      },
      "source": [
        "from sklearn.metrics import confusion_matrix, accuracy_score\n",
        "cm = confusion_matrix(y_test, y_pred)\n",
        "print(cm)\n",
        "accuracy_score(y_test, y_pred)"
      ],
      "execution_count": 27,
      "outputs": [
        {
          "output_type": "stream",
          "text": [
            "[[1515   80]\n",
            " [ 201  204]]\n"
          ],
          "name": "stdout"
        },
        {
          "output_type": "execute_result",
          "data": {
            "text/plain": [
              "0.8595"
            ]
          },
          "metadata": {
            "tags": []
          },
          "execution_count": 27
        }
      ]
    }
  ]
}